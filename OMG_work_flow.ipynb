{
  "cells": [
    {
      "cell_type": "markdown",
      "metadata": {
        "id": "view-in-github",
        "colab_type": "text"
      },
      "source": [
        "<a href=\"https://colab.research.google.com/github/biaoqingbao/OMG/blob/master/OMG_work_flow.ipynb\" target=\"_parent\"><img src=\"https://colab.research.google.com/assets/colab-badge.svg\" alt=\"Open In Colab\"/></a>"
      ]
    },
    {
      "cell_type": "markdown",
      "source": [
        "\n",
        "Make sure you have connected to GPU at the first place!"
      ],
      "metadata": {
        "id": "aW1XVGluYAmi"
      }
    },
    {
      "cell_type": "code",
      "source": [
        "#@title **Install Libraries**\n",
        "%%capture\n",
        "!pip install git+https://github.com/tbereau/auto_martini"
      ],
      "metadata": {
        "cellView": "form",
        "id": "LZOTHgyNMVGY"
      },
      "execution_count": null,
      "outputs": []
    },
    {
      "cell_type": "code",
      "source": [
        "\n",
        "#@title **Step 01 Load Installed Gromacs and Membrane**\n",
        "%%capture\n",
        "#gromacs\n",
        "!wget -O local.tar https://drive.usercontent.google.com/download?id=17ApbSr7uDgZHv8Y-43tMlUxPf7tCww65&export=download&authuser=0\n",
        "!tar -xvf /content/local.tar\n",
        "!cp -r /content/usr/local/gromacs/ /usr/local/\n",
        "\n",
        "!/usr/local/gromacs/bin/gmx -version\n",
        "\n",
        "\n",
        "#membrane\n",
        "\n",
        "!wget -O membrane.tar https://drive.usercontent.google.com/download?id=1Tz6ArJkR4-oHLwGh9Ya7cC23GIlVN5aR&export=download&authuser=0\n",
        "!tar -xvf /content/membrane.tar"
      ],
      "metadata": {
        "cellView": "form",
        "id": "Nb5ch7tZZ1d0"
      },
      "execution_count": null,
      "outputs": []
    },
    {
      "cell_type": "code",
      "source": [
        "#@title **Step 02 Enter target SMILES code >> get itp gro file**\n",
        "\n",
        "\n",
        "#@markdown Enter Target Abbreviation :\n",
        "\n",
        "#@markdown e.g. heptanol as HEP\n",
        "ABB = \"HEP\" #@param {type:\"string\"}\n",
        "\n",
        "\n",
        "#@markdown Enter Target SMILES code:\n",
        "SMILES = \"CCCCCCCO\" #@param {type:\"string\"}\n",
        "\n",
        "\n",
        "import os\n",
        "import shutil\n",
        "directory = ABB\n",
        "source_folder = \"/content/membrane/DIM_00/\"\n",
        "destination_folder = \"/content/\"+directory\n",
        "\n",
        "\n",
        "!mkdir -p $destination_folder\n",
        "!cp -r $source_folder/* $destination_folder\n",
        "\n",
        "destination_folder_prep = destination_folder +\"/prep\"\n",
        "\n",
        "os.chdir(destination_folder_prep)\n",
        "\n",
        "import auto_martini as am\n",
        "import rdkit\n",
        "from rdkit import Chem\n",
        "from rdkit.Chem import Draw\n",
        "from rdkit.Chem import AllChem\n",
        "\n",
        "\n",
        "mol_am, _ = am.topology.gen_molecule_smi(SMILES)\n",
        "cg = am.solver.Cg_molecule(mol_am, ABB)\n",
        "\n",
        "with open(ABB+'.itp', 'w') as f_out:\n",
        "  f_out.write(cg.topout)\n",
        "\n",
        "\n",
        "with open(ABB+'.gro', 'w') as f_out:\n",
        "  f_out.write(cg.output_cg(molname=ABB))\n",
        "\n",
        "\n",
        "\n",
        "\n",
        "with open(ABB+\".gro\", \"r\") as f:\n",
        "    # Read the contents of the second text file into a list of lines\n",
        "    dowgro = f.readlines()\n",
        "\n",
        "with open('dow.gro', \"w\") as f:\n",
        "    #newdow=[]\n",
        "    for i in dowgro:\n",
        "        new=i.replace(ABB, \"DOW\")\n",
        "        f.write(new)\n",
        "\n",
        "\n",
        "\n",
        "\n",
        "with open(ABB+\".gro\", \"r\") as f:\n",
        "    # Read the contents of the second text file into a list of lines\n",
        "    dowgro = f.readlines()\n",
        "\n",
        "with open('upp.gro', \"w\") as f:\n",
        "    #newdow=[]\n",
        "    for i in dowgro:\n",
        "        new=i.replace(ABB, \"UPP\")\n",
        "        f.write(new)\n",
        "\n",
        "\n",
        "with open(ABB+\".itp\", \"r\") as f:\n",
        "    # Read the contents of the second text file into a list of lines\n",
        "    dowgro = f.readlines()\n",
        "\n",
        "with open('dow.itp', \"w\") as f:\n",
        "    #newdow=[]\n",
        "    for i in dowgro:\n",
        "        new=i.replace(ABB, \"DOW\")\n",
        "        f.write(new)\n",
        "\n",
        "with open(ABB+\".itp\", \"r\") as f:\n",
        "    # Read the contents of the second text file into a list of lines\n",
        "    dowgro = f.readlines()\n",
        "\n",
        "with open('upp.itp', \"w\") as f:\n",
        "    #newdow=[]\n",
        "    for i in dowgro:\n",
        "        new=i.replace(ABB, \"UPP\")\n",
        "        f.write(new)"
      ],
      "metadata": {
        "colab": {
          "base_uri": "https://localhost:8080/"
        },
        "id": "m131ZOTXM1QE",
        "outputId": "3b39fad5-4f15-4bdf-b2c5-a64552c7b96e",
        "cellView": "form"
      },
      "execution_count": null,
      "outputs": [
        {
          "output_type": "stream",
          "name": "stdout",
          "text": [
            "Converged to solution in 1 iteration(s)\n"
          ]
        }
      ]
    },
    {
      "cell_type": "code",
      "source": [
        "#@title **Step 03 Insert Molecular**\n",
        "#count bead numbers\n",
        "\n",
        "with open(\"dow.gro\", \"r\") as f:\n",
        "    # Read the contents of the second text file into a list of lines\n",
        "    dowgro = f.readlines()\n",
        "    beadnumber = int(dowgro[1])\n",
        "\n",
        "\n",
        "\n",
        "\n",
        "#insert\n",
        "with open(\"start.gro\", \"r\") as f:\n",
        "    # Read the contents of the second text file into a list of lines\n",
        "    start = f.readlines()\n",
        "    newnumber = 21783+beadnumber*2\n",
        "    newnumberstr = str(newnumber)\n",
        "    new=start[1].replace('21785',newnumberstr)\n",
        "    beadnumber1 = beadnumber +1\n",
        "    beadnumber2 = beadnumber +2\n",
        "\n",
        "\n",
        "with open(\"upp.gro\", \"r\") as f:\n",
        "    # Read the contents of the second text file into a list of lines\n",
        "    upp = f.readlines()\n",
        "    uppsit = []\n",
        "    for i in range(2,beadnumber2):\n",
        "        uppx = '{0:.3f}'.format(float(upp[i][22:28])+4.791)\n",
        "        uppy = '{0:.3f}'.format(float(upp[i][30:36])+4.791)\n",
        "        uppz = '{0:.3f}'.format(float(upp[i][38:44])+10.364)\n",
        "        beads = upp[i][12:15]\n",
        "        n = str(6672+i)\n",
        "        atom_n = str(21782+i)\n",
        "        uppsite = ' '+n+'UPP'+'    '+beads+atom_n+'   '+uppx+'   '+uppy+'  '+uppz\n",
        "        uppsit.append(uppsite)\n",
        "\n",
        "\n",
        "with open(\"dow.gro\", \"r\") as f:\n",
        "    # Read the contents of the second text file into a list of lines\n",
        "    dow = f.readlines()\n",
        "    dowsit = []\n",
        "    for i in range(2,beadnumber2):\n",
        "        dowx = '{0:.3f}'.format(float(dow[i][22:28])+4.791)\n",
        "        dowy = '{0:.3f}'.format(float(dow[i][30:36])+4.791)\n",
        "        dowz = '{0:.3f}'.format(float(dow[i][38:44])+1.093)\n",
        "        beads = dow[i][12:15]\n",
        "        n = str(6672+beadnumber+i)\n",
        "        atom_n = str(21782+beadnumber+i)\n",
        "        dowsite = ' '+n+'DOW'+'    '+beads+atom_n+'   '+dowx+'   '+dowy+'   '+dowz\n",
        "        dowsit.append(dowsite)\n",
        "#remember change to start.gro\n",
        "with open('start.gro', \"w\") as f:\n",
        "    f.write(start[0])\n",
        "    f.write(new)\n",
        "    for i in range(2,21785):\n",
        "        f.write(start[i])\n",
        "    for i in uppsit:\n",
        "        f.write(i+'\\n')\n",
        "    for i in dowsit:\n",
        "        f.write(i+'\\n')\n",
        "    f.write(start[-1])\n",
        "\n",
        "\n",
        "#gro to top\n",
        "with open(\"start.gro\", \"r\") as f:\n",
        "    # Read the contents of the second text file into a list of lines\n",
        "    lines2 = f.readlines()\n",
        "lines3 = lines2[2:-1]\n",
        "\n",
        "lines = []\n",
        "for i in lines3:\n",
        "    if i[5:9] != 'ION ':\n",
        "        lines.append(i[5:9])\n",
        "    elif i[12:15] == ' CL':\n",
        "        lines.append('CL  ')\n",
        "    elif i[12:15] == ' NA':\n",
        "        lines.append('NA  ')\n",
        "\n",
        "lst = lines\n",
        "prev_elem = lst[0]\n",
        "count = 1\n",
        "grolist = []\n",
        "for elem in lst[1:]:\n",
        "    if elem == prev_elem:\n",
        "        count += 1\n",
        "    else:\n",
        "        grolist.append(prev_elem+' ' + str(count))\n",
        "        prev_elem = elem\n",
        "        count = 1\n",
        "grolist.append(prev_elem+' ' + str(count))  # 最后一行\n",
        "\n",
        "\n",
        "toplist = []\n",
        "for i in grolist:\n",
        "    if i[0:5] == \"DPCE \":\n",
        "        dpce = int(i[5:])//9\n",
        "        toplist.append('DPCE '+str(dpce))\n",
        "    if i[0:5] == \"CHOL \":\n",
        "        chol = int(i[5:])//8\n",
        "        toplist.append('CHOL '+str(chol))\n",
        "    if i[0:5] == \"BCN  \":\n",
        "        bcn = int(i[5:])//6\n",
        "        toplist.append('BCN '+str(bcn))\n",
        "    if i[0:5] == \"PW   \":\n",
        "        pw = int(i[5:])//3\n",
        "        toplist.append('PW '+str(pw))\n",
        "    if i[0:5] == \"UPP  \":\n",
        "        upp = int(i[5:])//beadnumber\n",
        "        toplist.append('UPP '+str(upp))\n",
        "    if i[0:5] == \"DOW  \":\n",
        "        dow = int(i[5:])//beadnumber\n",
        "        toplist.append('DOW '+str(dow))\n",
        "    if i[0:5] == \"NA   \":\n",
        "        na = int(i[5:])//1\n",
        "        toplist.append('NA '+str(na))\n",
        "    if i[0:5] == \"CL   \":\n",
        "        cl = int(i[5:])//1\n",
        "        toplist.append('CL '+str(cl))\n",
        "\n",
        "with open('system.top', \"w\") as f:\n",
        "    opening = \"\"\"#include \"martini_v2.2P.itp\"\n",
        "#include \"martini_v2.0_lipids_all_201506.itp\"\n",
        "#include \"martini_v2.0_ions.itp\"\n",
        "#include \"CHOL.itp\"\n",
        "; Then ITP of specific molecule\n",
        "#include \"upp.itp\"\n",
        "#include \"dow.itp\"\n",
        "\n",
        "[ system ]\n",
        "; name\n",
        "Martini system\n",
        "\n",
        "[ molecules ]\n",
        "; name        number\"\"\"\n",
        "    f.write(opening + \"\\n\")\n",
        "    for i in toplist:\n",
        "        f.write(i+\"\\n\")"
      ],
      "metadata": {
        "cellView": "form",
        "id": "czcteGP67TjP"
      },
      "execution_count": null,
      "outputs": []
    },
    {
      "cell_type": "code",
      "source": [],
      "metadata": {
        "id": "4H3MPeVjFr57"
      },
      "execution_count": null,
      "outputs": []
    },
    {
      "cell_type": "code",
      "source": [
        "#@title **Step 04 GROMACS Calulation Preparation**\n",
        "\n",
        "# prep\n",
        "os.chdir(destination_folder_prep)\n",
        "!bash run_prep.sh"
      ],
      "metadata": {
        "id": "3KqJBTPSS_ap",
        "cellView": "form"
      },
      "execution_count": null,
      "outputs": []
    },
    {
      "cell_type": "code",
      "source": [
        "#@title **Step 05 GROMACS Calulation Production**\n",
        "\n",
        "#prod\n",
        "import os\n",
        "destination_folder_prod = destination_folder + '/prod'\n",
        "os.chdir(destination_folder_prod)\n",
        "\n",
        "!chmod +x get_distances.sh\n",
        "!bash run_prod.sh"
      ],
      "metadata": {
        "cellView": "form",
        "id": "hWgBjK00k4Lk"
      },
      "execution_count": null,
      "outputs": []
    },
    {
      "cell_type": "code",
      "source": [
        "#@title **Step 06 GROMACS Calulation Umbrella Sampling**\n",
        "#umb\n",
        "import os\n",
        "destination_folder_umb = destination_folder + '/umb'\n",
        "os.chdir(destination_folder_umb)\n",
        "\n",
        "#os.chdir('/content/DIM_C1-Nda/umb')\n",
        "!chmod +x calc_umb.sh\n",
        "!chmod +x analysis.sh\n",
        "!python gen_coordseldat.py\n",
        "!bash calc_umb.sh\n",
        "!bash analysis.sh"
      ],
      "metadata": {
        "cellView": "form",
        "id": "aE9KzNjhlGn4"
      },
      "execution_count": null,
      "outputs": []
    },
    {
      "cell_type": "code",
      "source": [
        "#@title **Result: LogKp Calculation**\n",
        "#average\n",
        "os.chdir(destination_folder_umb)\n",
        "\n",
        "import numpy as np\n",
        "import pandas as pd\n",
        "from scipy.interpolate import interp1d\n",
        "\n",
        "\n",
        "!mkdir -p /content/$ABB/Result\n",
        "\n",
        "!cp down-pot.xvg /content/$ABB/Result\n",
        "!cp upp-pot.xvg /content/$ABB/Result\n",
        "\n",
        "\n",
        "\n",
        "\n",
        "destination_folder_Result = destination_folder + '/Result'\n",
        "os.chdir(destination_folder_Result)\n",
        "\n",
        "\n",
        "x1, y1 = np.loadtxt('upp-pot.xvg', unpack=True, comments = ['#', '@'])\n",
        "x2, y2 = np.loadtxt('down-pot.xvg', unpack=True, comments = ['#', '@'])\n",
        "\n",
        "# Define the original range of x values\n",
        "xmin = max(x1[0], x2[0])\n",
        "xmax = min(x1[-1], x2[-1])\n",
        "\n",
        "# Interpolate one of the files to match the x values of the other\n",
        "f2 = interp1d(x2, y2, kind='cubic', bounds_error=False, fill_value='extrapolate')\n",
        "y2_interp = f2(x1)\n",
        "\n",
        "# Average the y values at each point\n",
        "y_avg = (y1 + y2_interp) / 2\n",
        "\n",
        "# Keep only the x values within the original range\n",
        "x_new = x1[(x1 >= xmin) & (x1 <= xmax)]\n",
        "y_new = y_avg[(x1 >= xmin) & (x1 <= xmax)]\n",
        "\n",
        "# Save the result to a new file\n",
        "np.savetxt('average-try.xvg', np.transpose([x_new, y_new]), fmt='%f')\n",
        "aver = np.transpose([x_new, y_new])\n",
        "\n",
        "average = pd.DataFrame(aver)\n",
        "average.to_csv('average-try.csv',index=None,header=None)\n",
        "\n",
        "\n",
        "\n",
        "\n",
        "\n",
        "#LogKp\n",
        "import numpy as np\n",
        "import matplotlib.pyplot as plt\n",
        "\n",
        "d = np.loadtxt('average-try.xvg')\n",
        "\n",
        "ind_3 = np.abs(d[:, 0] - 3).argmin()#https://www.youtube.com/watch?v=66fJfvuMJw4 #3nm之后的最小值\n",
        "ind_4 = np.abs(d[:, 0] - 4).argmin()# 取最小值的索引   #在3nm到4nm 之间取最小值   #4nm 之后的最小值\n",
        "\n",
        "d[:, 1] = d[:, 1] - np.mean(d[ind_3: ind_4, 1]) #所有y -减去 两个最小值之间取平均\n",
        "d[:, 1] = d[:, 1] * 4.184 * 1000  #kcal to J\n",
        "d[:, 1] = np.exp(d[:, 1]*(1/310.15/8.314)) # at 313 K ——————————J to K——————————————————————————————————\n",
        "d[:, 0] = d[:, 0]*(10**-7) # nm -> cm\n",
        "I = np.trapz(d[:, 1], x = d[:, 0])#积分\n",
        "P_inv = I/(0.85*10**-6)\n",
        "P = 1/P_inv\n",
        "\n",
        "\n",
        "print(ABB+ \" LogKp =\", round(d[:, 1][0],2))"
      ],
      "metadata": {
        "id": "KB-TeF3hIKhk",
        "cellView": "form"
      },
      "execution_count": null,
      "outputs": []
    },
    {
      "cell_type": "code",
      "source": [
        "#@title **Result: LogKp Value**\n",
        "print(ABB+ \" LogKp =\", round(d[:, 1][0],2))"
      ],
      "metadata": {
        "cellView": "form",
        "id": "p2FND3yIe9fz"
      },
      "execution_count": null,
      "outputs": []
    },
    {
      "cell_type": "code",
      "source": [
        "\n",
        "#@title **Result: PMG Profile**\n",
        "\n",
        "xvg_file = 'average-try.xvg'\n",
        "\n",
        "\n",
        "\n",
        "data = np.loadtxt(xvg_file)\n",
        "x = data[:,0]\n",
        "#y = data[:,1]\n",
        "\n",
        "\n",
        "d = np.loadtxt(xvg_file)\n",
        "\n",
        "ind_3 = np.abs(d[:, 0] - 3).argmin()#https://www.youtube.com/watch?v=66fJfvuMJw4 #3nm之后的最小值\n",
        "ind_4 = np.abs(d[:, 0] - 4).argmin()# 取最小值的索引   #在3nm到4nm 之间取最小值   #4nm 之后的最小值\n",
        "\n",
        "y = d[:, 1] - np.mean(d[ind_3: ind_4, 1]) #所有y -减去 两个最小值之间取平均\n",
        "\n",
        "\n",
        "\n",
        "#ax = plt.subplot()\n",
        "#ax.spines['right'].set_visible(False)\n",
        "#ax.spines['top'].set_visible(False)\n",
        "plt.xlim(xmin = 0, xmax = 5)\n",
        "plt.grid(True)\n",
        "plt.xlabel(\" ξ(nm)\")#,fontsize=10)\n",
        "plt.ylabel(\"E(kcal mol$^{-1}$)\")#,fontsize=10)\n",
        "plt.title(\"Umbrella Potential\")#,fontsize=10)\n",
        "\n",
        "qianhong = (230/255, 80/255, 80/255)\n",
        "alpha_value = [0.2, 0.4, 0.6, 0.8, 1]\n",
        "plt.plot(x, y, label=(xvg_file[0].upper() + xvg_file[1:2]),c =qianhong,alpha= alpha_value[4])#,alpha=0.2\n",
        "\n",
        "#plt.show()\n",
        "#plt.ylim(-15,20)\n",
        "#plt.xlim(0,4)\n",
        "plt.savefig(ABB+\"-PMF.jpg\",dpi=600)##刷新了才能用 不然legend不更新"
      ],
      "metadata": {
        "cellView": "form",
        "id": "tLE9y_xGe_LJ"
      },
      "execution_count": null,
      "outputs": []
    },
    {
      "cell_type": "code",
      "source": [],
      "metadata": {
        "id": "RRno_ptIIKk6"
      },
      "execution_count": null,
      "outputs": []
    },
    {
      "cell_type": "code",
      "source": [],
      "metadata": {
        "id": "96PDsQk1sy9W"
      },
      "execution_count": null,
      "outputs": []
    },
    {
      "cell_type": "code",
      "source": [],
      "metadata": {
        "id": "g9BOlJ3yszAv"
      },
      "execution_count": null,
      "outputs": []
    },
    {
      "cell_type": "code",
      "source": [],
      "metadata": {
        "id": "cuCVGUs4zDbJ"
      },
      "execution_count": null,
      "outputs": []
    },
    {
      "cell_type": "code",
      "source": [],
      "metadata": {
        "id": "CTAB_xGuzDg-"
      },
      "execution_count": null,
      "outputs": []
    },
    {
      "cell_type": "code",
      "source": [],
      "metadata": {
        "id": "bdJJmtW_zDmG"
      },
      "execution_count": null,
      "outputs": []
    },
    {
      "cell_type": "code",
      "source": [
        "\n",
        "#@title **Example Molecule HEP(DIM_C1-Nda)**\n",
        "\n",
        "\"\"\"\n",
        "from google.colab import drive\n",
        "drive.mount('/content/drive')\n",
        "\n",
        "\n",
        "import os\n",
        "# 更改当前工作目录到/content/auto_martini\n",
        "os.chdir('/content')\n",
        "\n",
        "!mkdir -p /content/test\n",
        "!cp /content/drive/MyDrive/GROMACS-ONLINE/DIM_C1-Nda.tar /content/test\n",
        "!tar -xvf /content/test/DIM_C1-Nda.tar\n",
        "\"\"\"\n",
        "\n",
        "\n",
        "\n",
        "!git clone https://github.com/biaoqingbao/OMG.git"
      ],
      "metadata": {
        "id": "w4qW_b-mfSxC",
        "cellView": "form"
      },
      "execution_count": null,
      "outputs": []
    },
    {
      "cell_type": "code",
      "source": [
        "#@title **LogKp Calculation**\n",
        "#average\n",
        "\"\"\"\n",
        "import os\n",
        "# 更改当前工作目录到/content/auto_martini\n",
        "os.chdir('/content')\n",
        "\n",
        "!mkdir -p /content/test\n",
        "!cp /content/drive/MyDrive/DIM_C1-Nda.tar /content/test\n",
        "!tar -xvf /content/test/DIM_C1-Nda.tar\n",
        "\n",
        "os.chdir('/content/DIM_C1-Nda/umb')\n",
        "\"\"\"\n",
        "\n",
        "\n",
        "os.chdir('/content/OMG/DIM_C1-Nda/umb')\n",
        "\n",
        "import numpy as np\n",
        "import pandas as pd\n",
        "from scipy.interpolate import interp1d\n",
        "\n",
        "\n",
        "!mkdir -p /content/DIM_C1-Nda/Result\n",
        "\n",
        "#!cp /content/DIM_C1-Nda/umb/c1-nda-down-pot.xvg /content/$ABB/Result\n",
        "#!cp /content/DIM_C1-Nda/umb/c1-nda-upp-pot.xvg /content/$ABB/Result\n",
        "\n",
        "\n",
        "\n",
        "\n",
        "destination_folder = \"/content/DIM_C1-Nda\"\n",
        "\n",
        "destination_folder_Result = destination_folder + '/Result'\n",
        "!mkdir -p $destination_folder_Result\n",
        "\n",
        "!cp c1-nda-down-pot.xvg $destination_folder_Result\n",
        "!cp c1-nda-upp-pot.xvg $destination_folder_Result\n",
        "\n",
        "os.chdir(destination_folder_Result)\n",
        "x1, y1 = np.loadtxt('c1-nda-upp-pot.xvg', unpack=True, comments = ['#', '@'])\n",
        "x2, y2 = np.loadtxt('c1-nda-down-pot.xvg', unpack=True, comments = ['#', '@'])\n",
        "\n",
        "# Define the original range of x values\n",
        "xmin = max(x1[0], x2[0])\n",
        "xmax = min(x1[-1], x2[-1])\n",
        "\n",
        "# Interpolate one of the files to match the x values of the other\n",
        "f2 = interp1d(x2, y2, kind='cubic', bounds_error=False, fill_value='extrapolate')\n",
        "y2_interp = f2(x1)\n",
        "\n",
        "# Average the y values at each point\n",
        "y_avg = (y1 + y2_interp) / 2\n",
        "\n",
        "# Keep only the x values within the original range\n",
        "x_new = x1[(x1 >= xmin) & (x1 <= xmax)]\n",
        "y_new = y_avg[(x1 >= xmin) & (x1 <= xmax)]\n",
        "\n",
        "# Save the result to a new file\n",
        "np.savetxt('average-try.xvg', np.transpose([x_new, y_new]), fmt='%f')\n",
        "aver = np.transpose([x_new, y_new])\n",
        "\n",
        "average = pd.DataFrame(aver)\n",
        "average.to_csv('average-try.csv',index=None,header=None)\n",
        "\n",
        "\n",
        "\n",
        "\n",
        "\n",
        "\n",
        "\n",
        "\n",
        "#LogKp\n",
        "import numpy as np\n",
        "import matplotlib.pyplot as plt\n",
        "\n",
        "d = np.loadtxt('average-try.xvg')\n",
        "\n",
        "ind_3 = np.abs(d[:, 0] - 3).argmin()#https://www.youtube.com/watch?v=66fJfvuMJw4 #3nm之后的最小值\n",
        "ind_4 = np.abs(d[:, 0] - 4).argmin()# 取最小值的索引   #在3nm到4nm 之间取最小值   #4nm 之后的最小值\n",
        "\n",
        "d[:, 1] = d[:, 1] - np.mean(d[ind_3: ind_4, 1]) #所有y -减去 两个最小值之间取平均\n",
        "d[:, 1] = d[:, 1] * 4.184 * 1000  #kcal to J\n",
        "d[:, 1] = np.exp(d[:, 1]*(1/310.15/8.314)) # at 313 K ——————————J to K——————————————————————————————————\n",
        "d[:, 0] = d[:, 0]*(10**-7) # nm -> cm\n",
        "I = np.trapz(d[:, 1], x = d[:, 0])#积分\n",
        "P_inv = I/(0.85*10**-6)\n",
        "P = 1/P_inv"
      ],
      "metadata": {
        "cellView": "form",
        "id": "5Lux7C17wMye"
      },
      "execution_count": null,
      "outputs": []
    },
    {
      "cell_type": "code",
      "source": [
        "#@title **LogKp Value**\n",
        "print(\"Example Molecule \"+ ABB+\" LogKp =\", round(np.log10(P), 2))"
      ],
      "metadata": {
        "id": "SaM5B48gIKqJ",
        "colab": {
          "base_uri": "https://localhost:8080/"
        },
        "outputId": "952709d0-6c9f-4753-db4e-4022961f17dc",
        "cellView": "form"
      },
      "execution_count": null,
      "outputs": [
        {
          "output_type": "stream",
          "name": "stdout",
          "text": [
            "Example Molecule HEP LogKp = 0.64\n"
          ]
        }
      ]
    },
    {
      "cell_type": "code",
      "source": [
        "#@title **PMG Profile**\n",
        "\n",
        "\n",
        "xvg_file = 'average-try.xvg'\n",
        "\n",
        "\n",
        "\n",
        "data = np.loadtxt(xvg_file)\n",
        "x = data[:,0]\n",
        "#y = data[:,1]\n",
        "\n",
        "\n",
        "d = np.loadtxt(xvg_file)\n",
        "\n",
        "ind_3 = np.abs(d[:, 0] - 3).argmin()#https://www.youtube.com/watch?v=66fJfvuMJw4 #3nm之后的最小值\n",
        "ind_4 = np.abs(d[:, 0] - 4).argmin()# 取最小值的索引   #在3nm到4nm 之间取最小值   #4nm 之后的最小值\n",
        "\n",
        "y = d[:, 1] - np.mean(d[ind_3: ind_4, 1]) #所有y -减去 两个最小值之间取平均\n",
        "\n",
        "\n",
        "\n",
        "#ax = plt.subplot()\n",
        "#ax.spines['right'].set_visible(False)\n",
        "#ax.spines['top'].set_visible(False)\n",
        "plt.xlim(xmin = 0, xmax = 5)\n",
        "plt.grid(True)\n",
        "plt.xlabel(\" ξ(nm)\")#,fontsize=10)\n",
        "plt.ylabel(\"E(kcal mol$^{-1}$)\")#,fontsize=10)\n",
        "plt.title(\"Umbrella Potential\")#,fontsize=10)\n",
        "\n",
        "qianhong = (230/255, 80/255, 80/255)\n",
        "alpha_value = [0.2, 0.4, 0.6, 0.8, 1]\n",
        "plt.plot(x, y, label=(xvg_file[0].upper() + xvg_file[1:2]),c =qianhong,alpha= alpha_value[4])#,alpha=0.2\n",
        "\n",
        "#plt.show()\n",
        "#plt.ylim(-15,20)\n",
        "#plt.xlim(0,4)\n",
        "plt.savefig(ABB+\"-PMF.jpg\",dpi=600)##刷新了才能用 不然legend不更新"
      ],
      "metadata": {
        "id": "XyxHzlegXoFC",
        "colab": {
          "base_uri": "https://localhost:8080/",
          "height": 472
        },
        "cellView": "form",
        "outputId": "eae36ff5-10a8-428e-a006-b5bf6815d1cd"
      },
      "execution_count": null,
      "outputs": [
        {
          "output_type": "display_data",
          "data": {
            "text/plain": [
              "<Figure size 640x480 with 1 Axes>"
            ],
            "image/png": "[encoded data removed]"
          },
          "metadata": {}
        }
      ]
    },
    {
      "cell_type": "code",
      "source": [],
      "metadata": {
        "id": "YW5dC3QPsg2-"
      },
      "execution_count": null,
      "outputs": []
    }
  ],
  "metadata": {
    "colab": {
      "provenance": [],
      "include_colab_link": true
    },
    "kernelspec": {
      "display_name": "Python 3",
      "name": "python3"
    },
    "language_info": {
      "name": "python"
    }
  },
  "nbformat": 4,
  "nbformat_minor": 0
}